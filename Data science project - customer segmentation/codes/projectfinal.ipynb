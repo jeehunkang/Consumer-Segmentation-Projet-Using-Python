{
 "cells": [
  {
   "cell_type": "code",
   "execution_count": 1,
   "metadata": {},
   "outputs": [],
   "source": [
    "#pip install imblearn # imbalanced learning y variable(0,1) is not balanced"
   ]
  },
  {
   "cell_type": "code",
   "execution_count": 2,
   "metadata": {},
   "outputs": [],
   "source": [
    "# This project is about picking \"Highly likely customers\" to apply for the loans based on the predicted propensity scores \n",
    "# Use Logistic Regression & Random Forest as classifiers.\n"
   ]
  },
  {
   "cell_type": "code",
   "execution_count": 3,
   "metadata": {},
   "outputs": [],
   "source": [
    "# download all the necessary libraries and functions needed for the proeject. \n",
    "\n",
    "\n",
    "import imblearn\n",
    "import pandas as pd\n",
    "import numpy as np\n",
    "import matplotlib.pyplot as plt\n",
    "from matplotlib import pyplot\n",
    "import sys\n",
    "from IPython.display import display # display the results in HTML\n",
    "np.set_printoptions(threshold=sys.maxsize)\n",
    "from sklearn import preprocessing\n",
    "from sklearn.model_selection import GridSearchCV\n",
    "from sklearn.linear_model import LogisticRegression\n",
    "from sklearn.ensemble import RandomForestClassifier\n",
    "from sklearn.metrics import confusion_matrix, precision_recall_curve, auc, roc_auc_score, roc_curve, recall_score, classification_report\n",
    "from sklearn.feature_selection import chi2\n",
    "from sklearn.feature_selection import SelectKBest\n",
    "from sklearn.preprocessing import PolynomialFeatures\n",
    "from sklearn.model_selection import train_test_split\n",
    "import statsmodels.api as sms\n",
    "import statsmodels.stats.api as sms0\n",
    "from imblearn.over_sampling import SMOTE"
   ]
  },
  {
   "cell_type": "code",
   "execution_count": 4,
   "metadata": {},
   "outputs": [],
   "source": [
    "base = '../input/'\n",
    "file = 'PLXSELL.csv'\n",
    "df_loan = pd.read_csv(base+file)"
   ]
  },
  {
   "cell_type": "code",
   "execution_count": 5,
   "metadata": {},
   "outputs": [],
   "source": [
    "# Exploratory analysis"
   ]
  },
  {
   "cell_type": "code",
   "execution_count": 6,
   "metadata": {},
   "outputs": [
    {
     "data": {
      "text/html": [
       "<div>\n",
       "<style scoped>\n",
       "    .dataframe tbody tr th:only-of-type {\n",
       "        vertical-align: middle;\n",
       "    }\n",
       "\n",
       "    .dataframe tbody tr th {\n",
       "        vertical-align: top;\n",
       "    }\n",
       "\n",
       "    .dataframe thead th {\n",
       "        text-align: right;\n",
       "    }\n",
       "</style>\n",
       "<table border=\"1\" class=\"dataframe\">\n",
       "  <thead>\n",
       "    <tr style=\"text-align: right;\">\n",
       "      <th></th>\n",
       "      <th>CUST_ID</th>\n",
       "      <th>TARGET</th>\n",
       "      <th>AGE</th>\n",
       "      <th>GENDER</th>\n",
       "      <th>BALANCE</th>\n",
       "      <th>OCCUPATION</th>\n",
       "      <th>AGE_BKT</th>\n",
       "      <th>SCR</th>\n",
       "      <th>HOLDING_PERIOD</th>\n",
       "      <th>ACC_TYPE</th>\n",
       "      <th>...</th>\n",
       "      <th>NO_OF_IW_CHQ_BNC_TXNS</th>\n",
       "      <th>NO_OF_OW_CHQ_BNC_TXNS</th>\n",
       "      <th>AVG_AMT_PER_ATM_TXN</th>\n",
       "      <th>AVG_AMT_PER_CSH_WDL_TXN</th>\n",
       "      <th>AVG_AMT_PER_CHQ_TXN</th>\n",
       "      <th>AVG_AMT_PER_NET_TXN</th>\n",
       "      <th>AVG_AMT_PER_MOB_TXN</th>\n",
       "      <th>FLG_HAS_NOMINEE</th>\n",
       "      <th>FLG_HAS_OLD_LOAN</th>\n",
       "      <th>random</th>\n",
       "    </tr>\n",
       "  </thead>\n",
       "  <tbody>\n",
       "    <tr>\n",
       "      <th>0</th>\n",
       "      <td>C7927</td>\n",
       "      <td>0</td>\n",
       "      <td>27</td>\n",
       "      <td>M</td>\n",
       "      <td>3383.75</td>\n",
       "      <td>SELF_EMP</td>\n",
       "      <td>26-30</td>\n",
       "      <td>776</td>\n",
       "      <td>30</td>\n",
       "      <td>SA</td>\n",
       "      <td>...</td>\n",
       "      <td>0</td>\n",
       "      <td>0</td>\n",
       "      <td>13100.0</td>\n",
       "      <td>0.0</td>\n",
       "      <td>0.0</td>\n",
       "      <td>486778.50</td>\n",
       "      <td>0.0</td>\n",
       "      <td>1</td>\n",
       "      <td>1</td>\n",
       "      <td>0.000011</td>\n",
       "    </tr>\n",
       "    <tr>\n",
       "      <th>1</th>\n",
       "      <td>C6877</td>\n",
       "      <td>0</td>\n",
       "      <td>47</td>\n",
       "      <td>M</td>\n",
       "      <td>287489.04</td>\n",
       "      <td>SAL</td>\n",
       "      <td>46-50</td>\n",
       "      <td>324</td>\n",
       "      <td>28</td>\n",
       "      <td>SA</td>\n",
       "      <td>...</td>\n",
       "      <td>0</td>\n",
       "      <td>0</td>\n",
       "      <td>6600.0</td>\n",
       "      <td>0.0</td>\n",
       "      <td>0.0</td>\n",
       "      <td>799813.00</td>\n",
       "      <td>0.0</td>\n",
       "      <td>1</td>\n",
       "      <td>0</td>\n",
       "      <td>0.000111</td>\n",
       "    </tr>\n",
       "    <tr>\n",
       "      <th>2</th>\n",
       "      <td>C19922</td>\n",
       "      <td>0</td>\n",
       "      <td>40</td>\n",
       "      <td>M</td>\n",
       "      <td>18216.88</td>\n",
       "      <td>SELF_EMP</td>\n",
       "      <td>36-40</td>\n",
       "      <td>603</td>\n",
       "      <td>2</td>\n",
       "      <td>SA</td>\n",
       "      <td>...</td>\n",
       "      <td>0</td>\n",
       "      <td>1</td>\n",
       "      <td>11200.0</td>\n",
       "      <td>561120.0</td>\n",
       "      <td>24660.0</td>\n",
       "      <td>997570.00</td>\n",
       "      <td>0.0</td>\n",
       "      <td>1</td>\n",
       "      <td>1</td>\n",
       "      <td>0.000120</td>\n",
       "    </tr>\n",
       "    <tr>\n",
       "      <th>3</th>\n",
       "      <td>C8183</td>\n",
       "      <td>0</td>\n",
       "      <td>53</td>\n",
       "      <td>M</td>\n",
       "      <td>71720.48</td>\n",
       "      <td>SAL</td>\n",
       "      <td>&gt;50</td>\n",
       "      <td>196</td>\n",
       "      <td>13</td>\n",
       "      <td>CA</td>\n",
       "      <td>...</td>\n",
       "      <td>0</td>\n",
       "      <td>0</td>\n",
       "      <td>13050.0</td>\n",
       "      <td>168397.5</td>\n",
       "      <td>15195.0</td>\n",
       "      <td>247168.67</td>\n",
       "      <td>71388.0</td>\n",
       "      <td>1</td>\n",
       "      <td>0</td>\n",
       "      <td>0.000137</td>\n",
       "    </tr>\n",
       "    <tr>\n",
       "      <th>4</th>\n",
       "      <td>C12123</td>\n",
       "      <td>0</td>\n",
       "      <td>36</td>\n",
       "      <td>M</td>\n",
       "      <td>1671622.89</td>\n",
       "      <td>PROF</td>\n",
       "      <td>36-40</td>\n",
       "      <td>167</td>\n",
       "      <td>24</td>\n",
       "      <td>SA</td>\n",
       "      <td>...</td>\n",
       "      <td>0</td>\n",
       "      <td>0</td>\n",
       "      <td>0.0</td>\n",
       "      <td>808480.0</td>\n",
       "      <td>0.0</td>\n",
       "      <td>0.00</td>\n",
       "      <td>0.0</td>\n",
       "      <td>1</td>\n",
       "      <td>0</td>\n",
       "      <td>0.000174</td>\n",
       "    </tr>\n",
       "  </tbody>\n",
       "</table>\n",
       "<p>5 rows × 40 columns</p>\n",
       "</div>"
      ],
      "text/plain": [
       "  CUST_ID  TARGET  AGE GENDER     BALANCE OCCUPATION AGE_BKT  SCR  \\\n",
       "0   C7927       0   27      M     3383.75   SELF_EMP   26-30  776   \n",
       "1   C6877       0   47      M   287489.04        SAL   46-50  324   \n",
       "2  C19922       0   40      M    18216.88   SELF_EMP   36-40  603   \n",
       "3   C8183       0   53      M    71720.48        SAL     >50  196   \n",
       "4  C12123       0   36      M  1671622.89       PROF   36-40  167   \n",
       "\n",
       "   HOLDING_PERIOD ACC_TYPE  ... NO_OF_IW_CHQ_BNC_TXNS  NO_OF_OW_CHQ_BNC_TXNS  \\\n",
       "0              30       SA  ...                     0                      0   \n",
       "1              28       SA  ...                     0                      0   \n",
       "2               2       SA  ...                     0                      1   \n",
       "3              13       CA  ...                     0                      0   \n",
       "4              24       SA  ...                     0                      0   \n",
       "\n",
       "   AVG_AMT_PER_ATM_TXN  AVG_AMT_PER_CSH_WDL_TXN  AVG_AMT_PER_CHQ_TXN  \\\n",
       "0              13100.0                      0.0                  0.0   \n",
       "1               6600.0                      0.0                  0.0   \n",
       "2              11200.0                 561120.0              24660.0   \n",
       "3              13050.0                 168397.5              15195.0   \n",
       "4                  0.0                 808480.0                  0.0   \n",
       "\n",
       "   AVG_AMT_PER_NET_TXN  AVG_AMT_PER_MOB_TXN  FLG_HAS_NOMINEE  \\\n",
       "0            486778.50                  0.0                1   \n",
       "1            799813.00                  0.0                1   \n",
       "2            997570.00                  0.0                1   \n",
       "3            247168.67              71388.0                1   \n",
       "4                 0.00                  0.0                1   \n",
       "\n",
       "   FLG_HAS_OLD_LOAN    random  \n",
       "0                 1  0.000011  \n",
       "1                 0  0.000111  \n",
       "2                 1  0.000120  \n",
       "3                 0  0.000137  \n",
       "4                 0  0.000174  \n",
       "\n",
       "[5 rows x 40 columns]"
      ]
     },
     "execution_count": 6,
     "metadata": {},
     "output_type": "execute_result"
    }
   ],
   "source": [
    "df_loan.head()"
   ]
  },
  {
   "cell_type": "code",
   "execution_count": 7,
   "metadata": {},
   "outputs": [
    {
     "data": {
      "text/plain": [
       "Index(['CUST_ID', 'TARGET', 'AGE', 'GENDER', 'BALANCE', 'OCCUPATION',\n",
       "       'AGE_BKT', 'SCR', 'HOLDING_PERIOD', 'ACC_TYPE', 'ACC_OP_DATE',\n",
       "       'LEN_OF_RLTN_IN_MNTH', 'NO_OF_L_CR_TXNS', 'NO_OF_L_DR_TXNS',\n",
       "       'TOT_NO_OF_L_TXNS', 'NO_OF_BR_CSH_WDL_DR_TXNS', 'NO_OF_ATM_DR_TXNS',\n",
       "       'NO_OF_NET_DR_TXNS', 'NO_OF_MOB_DR_TXNS', 'NO_OF_CHQ_DR_TXNS',\n",
       "       'FLG_HAS_CC', 'AMT_ATM_DR', 'AMT_BR_CSH_WDL_DR', 'AMT_CHQ_DR',\n",
       "       'AMT_NET_DR', 'AMT_MOB_DR', 'AMT_L_DR', 'FLG_HAS_ANY_CHGS',\n",
       "       'AMT_OTH_BK_ATM_USG_CHGS', 'AMT_MIN_BAL_NMC_CHGS',\n",
       "       'NO_OF_IW_CHQ_BNC_TXNS', 'NO_OF_OW_CHQ_BNC_TXNS', 'AVG_AMT_PER_ATM_TXN',\n",
       "       'AVG_AMT_PER_CSH_WDL_TXN', 'AVG_AMT_PER_CHQ_TXN', 'AVG_AMT_PER_NET_TXN',\n",
       "       'AVG_AMT_PER_MOB_TXN', 'FLG_HAS_NOMINEE', 'FLG_HAS_OLD_LOAN', 'random'],\n",
       "      dtype='object')"
      ]
     },
     "execution_count": 7,
     "metadata": {},
     "output_type": "execute_result"
    }
   ],
   "source": [
    "df_loan.columns"
   ]
  },
  {
   "cell_type": "code",
   "execution_count": 8,
   "metadata": {},
   "outputs": [],
   "source": [
    "# Eliminating CUST_ID and 'random' variables as they are not used for training\n",
    "df_loan.drop(columns=['CUST_ID', 'random'],inplace=True)"
   ]
  },
  {
   "cell_type": "code",
   "execution_count": 9,
   "metadata": {},
   "outputs": [
    {
     "data": {
      "text/plain": [
       "Index(['TARGET', 'AGE', 'GENDER', 'BALANCE', 'OCCUPATION', 'AGE_BKT', 'SCR',\n",
       "       'HOLDING_PERIOD', 'ACC_TYPE', 'ACC_OP_DATE', 'LEN_OF_RLTN_IN_MNTH',\n",
       "       'NO_OF_L_CR_TXNS', 'NO_OF_L_DR_TXNS', 'TOT_NO_OF_L_TXNS',\n",
       "       'NO_OF_BR_CSH_WDL_DR_TXNS', 'NO_OF_ATM_DR_TXNS', 'NO_OF_NET_DR_TXNS',\n",
       "       'NO_OF_MOB_DR_TXNS', 'NO_OF_CHQ_DR_TXNS', 'FLG_HAS_CC', 'AMT_ATM_DR',\n",
       "       'AMT_BR_CSH_WDL_DR', 'AMT_CHQ_DR', 'AMT_NET_DR', 'AMT_MOB_DR',\n",
       "       'AMT_L_DR', 'FLG_HAS_ANY_CHGS', 'AMT_OTH_BK_ATM_USG_CHGS',\n",
       "       'AMT_MIN_BAL_NMC_CHGS', 'NO_OF_IW_CHQ_BNC_TXNS',\n",
       "       'NO_OF_OW_CHQ_BNC_TXNS', 'AVG_AMT_PER_ATM_TXN',\n",
       "       'AVG_AMT_PER_CSH_WDL_TXN', 'AVG_AMT_PER_CHQ_TXN', 'AVG_AMT_PER_NET_TXN',\n",
       "       'AVG_AMT_PER_MOB_TXN', 'FLG_HAS_NOMINEE', 'FLG_HAS_OLD_LOAN'],\n",
       "      dtype='object')"
      ]
     },
     "execution_count": 9,
     "metadata": {},
     "output_type": "execute_result"
    }
   ],
   "source": [
    "df_loan.columns"
   ]
  },
  {
   "cell_type": "code",
   "execution_count": 10,
   "metadata": {},
   "outputs": [],
   "source": [
    "# Eliminating AGE_BKT and ACC_OP_DATE as they are generated by other variables within the dataset.   \n",
    "df_loan.drop(columns=['AGE_BKT', 'ACC_OP_DATE'], inplace=True)"
   ]
  },
  {
   "cell_type": "code",
   "execution_count": 11,
   "metadata": {},
   "outputs": [
    {
     "data": {
      "text/plain": [
       "TARGET                        int64\n",
       "AGE                           int64\n",
       "GENDER                       object\n",
       "BALANCE                     float64\n",
       "OCCUPATION                   object\n",
       "SCR                           int64\n",
       "HOLDING_PERIOD                int64\n",
       "ACC_TYPE                     object\n",
       "LEN_OF_RLTN_IN_MNTH           int64\n",
       "NO_OF_L_CR_TXNS               int64\n",
       "NO_OF_L_DR_TXNS               int64\n",
       "TOT_NO_OF_L_TXNS              int64\n",
       "NO_OF_BR_CSH_WDL_DR_TXNS      int64\n",
       "NO_OF_ATM_DR_TXNS             int64\n",
       "NO_OF_NET_DR_TXNS             int64\n",
       "NO_OF_MOB_DR_TXNS             int64\n",
       "NO_OF_CHQ_DR_TXNS             int64\n",
       "FLG_HAS_CC                    int64\n",
       "AMT_ATM_DR                    int64\n",
       "AMT_BR_CSH_WDL_DR             int64\n",
       "AMT_CHQ_DR                    int64\n",
       "AMT_NET_DR                  float64\n",
       "AMT_MOB_DR                    int64\n",
       "AMT_L_DR                    float64\n",
       "FLG_HAS_ANY_CHGS              int64\n",
       "AMT_OTH_BK_ATM_USG_CHGS       int64\n",
       "AMT_MIN_BAL_NMC_CHGS          int64\n",
       "NO_OF_IW_CHQ_BNC_TXNS         int64\n",
       "NO_OF_OW_CHQ_BNC_TXNS         int64\n",
       "AVG_AMT_PER_ATM_TXN         float64\n",
       "AVG_AMT_PER_CSH_WDL_TXN     float64\n",
       "AVG_AMT_PER_CHQ_TXN         float64\n",
       "AVG_AMT_PER_NET_TXN         float64\n",
       "AVG_AMT_PER_MOB_TXN         float64\n",
       "FLG_HAS_NOMINEE               int64\n",
       "FLG_HAS_OLD_LOAN              int64\n",
       "dtype: object"
      ]
     },
     "execution_count": 11,
     "metadata": {},
     "output_type": "execute_result"
    }
   ],
   "source": [
    "df_loan.dtypes\n",
    "# GENDER, OCCUPATION, ACC_TYPE "
   ]
  },
  {
   "cell_type": "code",
   "execution_count": 12,
   "metadata": {},
   "outputs": [
    {
     "data": {
      "image/png": "[encoded data removed]",
      "text/plain": [
       "<Figure size 432x288 with 1 Axes>"
      ]
     },
     "metadata": {
      "needs_background": "light"
     },
     "output_type": "display_data"
    }
   ],
   "source": [
    "df_loan['GENDER'].unique() \n",
    "plt.hist(df_loan.GENDER, bins=10)\n",
    "plt.show()"
   ]
  },
  {
   "cell_type": "code",
   "execution_count": 13,
   "metadata": {},
   "outputs": [
    {
     "data": {
      "image/png": "[encoded data removed]",
      "text/plain": [
       "<Figure size 432x288 with 1 Axes>"
      ]
     },
     "metadata": {
      "needs_background": "light"
     },
     "output_type": "display_data"
    }
   ],
   "source": [
    "df_loan['OCCUPATION'].unique()  \n",
    "plt.hist(df_loan.OCCUPATION, bins=10)\n",
    "plt.show()"
   ]
  },
  {
   "cell_type": "code",
   "execution_count": 14,
   "metadata": {},
   "outputs": [
    {
     "data": {
      "image/png": "[encoded data removed]",
      "text/plain": [
       "<Figure size 432x288 with 1 Axes>"
      ]
     },
     "metadata": {
      "needs_background": "light"
     },
     "output_type": "display_data"
    }
   ],
   "source": [
    "df_loan['ACC_TYPE'].unique() \n",
    "plt.hist(df_loan.ACC_TYPE, bins=3)\n",
    "plt.show()"
   ]
  },
  {
   "cell_type": "code",
   "execution_count": 15,
   "metadata": {},
   "outputs": [],
   "source": [
    "# Converting string data into integer values by creating dummy variables.\n",
    "\n",
    "df_loan_gender = pd.get_dummies(df_loan['GENDER'].values,drop_first=True)\n",
    "df_loan_occupation = pd.get_dummies(df_loan['OCCUPATION'].values,drop_first=True)\n",
    "df_loan_acc_type =pd.get_dummies(df_loan['ACC_TYPE'].values,drop_first=True)"
   ]
  },
  {
   "cell_type": "code",
   "execution_count": 16,
   "metadata": {},
   "outputs": [],
   "source": [
    "# Remove the original string data\n",
    "df_loan_reduced = df_loan.drop(columns=['GENDER','OCCUPATION','ACC_TYPE'])"
   ]
  },
  {
   "cell_type": "code",
   "execution_count": 17,
   "metadata": {},
   "outputs": [
    {
     "data": {
      "text/html": [
       "<div>\n",
       "<style scoped>\n",
       "    .dataframe tbody tr th:only-of-type {\n",
       "        vertical-align: middle;\n",
       "    }\n",
       "\n",
       "    .dataframe tbody tr th {\n",
       "        vertical-align: top;\n",
       "    }\n",
       "\n",
       "    .dataframe thead th {\n",
       "        text-align: right;\n",
       "    }\n",
       "</style>\n",
       "<table border=\"1\" class=\"dataframe\">\n",
       "  <thead>\n",
       "    <tr style=\"text-align: right;\">\n",
       "      <th></th>\n",
       "      <th>TARGET</th>\n",
       "      <th>AGE</th>\n",
       "      <th>BALANCE</th>\n",
       "      <th>SCR</th>\n",
       "      <th>HOLDING_PERIOD</th>\n",
       "      <th>LEN_OF_RLTN_IN_MNTH</th>\n",
       "      <th>NO_OF_L_CR_TXNS</th>\n",
       "      <th>NO_OF_L_DR_TXNS</th>\n",
       "      <th>TOT_NO_OF_L_TXNS</th>\n",
       "      <th>NO_OF_BR_CSH_WDL_DR_TXNS</th>\n",
       "      <th>...</th>\n",
       "      <th>AMT_MIN_BAL_NMC_CHGS</th>\n",
       "      <th>NO_OF_IW_CHQ_BNC_TXNS</th>\n",
       "      <th>NO_OF_OW_CHQ_BNC_TXNS</th>\n",
       "      <th>AVG_AMT_PER_ATM_TXN</th>\n",
       "      <th>AVG_AMT_PER_CSH_WDL_TXN</th>\n",
       "      <th>AVG_AMT_PER_CHQ_TXN</th>\n",
       "      <th>AVG_AMT_PER_NET_TXN</th>\n",
       "      <th>AVG_AMT_PER_MOB_TXN</th>\n",
       "      <th>FLG_HAS_NOMINEE</th>\n",
       "      <th>FLG_HAS_OLD_LOAN</th>\n",
       "    </tr>\n",
       "  </thead>\n",
       "  <tbody>\n",
       "    <tr>\n",
       "      <th>0</th>\n",
       "      <td>0</td>\n",
       "      <td>27</td>\n",
       "      <td>3383.75</td>\n",
       "      <td>776</td>\n",
       "      <td>30</td>\n",
       "      <td>146</td>\n",
       "      <td>7</td>\n",
       "      <td>3</td>\n",
       "      <td>10</td>\n",
       "      <td>0</td>\n",
       "      <td>...</td>\n",
       "      <td>0</td>\n",
       "      <td>0</td>\n",
       "      <td>0</td>\n",
       "      <td>13100.0</td>\n",
       "      <td>0.0</td>\n",
       "      <td>0.0</td>\n",
       "      <td>486778.50</td>\n",
       "      <td>0.0</td>\n",
       "      <td>1</td>\n",
       "      <td>1</td>\n",
       "    </tr>\n",
       "    <tr>\n",
       "      <th>1</th>\n",
       "      <td>0</td>\n",
       "      <td>47</td>\n",
       "      <td>287489.04</td>\n",
       "      <td>324</td>\n",
       "      <td>28</td>\n",
       "      <td>104</td>\n",
       "      <td>8</td>\n",
       "      <td>2</td>\n",
       "      <td>10</td>\n",
       "      <td>0</td>\n",
       "      <td>...</td>\n",
       "      <td>0</td>\n",
       "      <td>0</td>\n",
       "      <td>0</td>\n",
       "      <td>6600.0</td>\n",
       "      <td>0.0</td>\n",
       "      <td>0.0</td>\n",
       "      <td>799813.00</td>\n",
       "      <td>0.0</td>\n",
       "      <td>1</td>\n",
       "      <td>0</td>\n",
       "    </tr>\n",
       "    <tr>\n",
       "      <th>2</th>\n",
       "      <td>0</td>\n",
       "      <td>40</td>\n",
       "      <td>18216.88</td>\n",
       "      <td>603</td>\n",
       "      <td>2</td>\n",
       "      <td>61</td>\n",
       "      <td>10</td>\n",
       "      <td>5</td>\n",
       "      <td>15</td>\n",
       "      <td>1</td>\n",
       "      <td>...</td>\n",
       "      <td>0</td>\n",
       "      <td>0</td>\n",
       "      <td>1</td>\n",
       "      <td>11200.0</td>\n",
       "      <td>561120.0</td>\n",
       "      <td>24660.0</td>\n",
       "      <td>997570.00</td>\n",
       "      <td>0.0</td>\n",
       "      <td>1</td>\n",
       "      <td>1</td>\n",
       "    </tr>\n",
       "    <tr>\n",
       "      <th>3</th>\n",
       "      <td>0</td>\n",
       "      <td>53</td>\n",
       "      <td>71720.48</td>\n",
       "      <td>196</td>\n",
       "      <td>13</td>\n",
       "      <td>107</td>\n",
       "      <td>36</td>\n",
       "      <td>14</td>\n",
       "      <td>50</td>\n",
       "      <td>4</td>\n",
       "      <td>...</td>\n",
       "      <td>0</td>\n",
       "      <td>0</td>\n",
       "      <td>0</td>\n",
       "      <td>13050.0</td>\n",
       "      <td>168397.5</td>\n",
       "      <td>15195.0</td>\n",
       "      <td>247168.67</td>\n",
       "      <td>71388.0</td>\n",
       "      <td>1</td>\n",
       "      <td>0</td>\n",
       "    </tr>\n",
       "    <tr>\n",
       "      <th>4</th>\n",
       "      <td>0</td>\n",
       "      <td>36</td>\n",
       "      <td>1671622.89</td>\n",
       "      <td>167</td>\n",
       "      <td>24</td>\n",
       "      <td>185</td>\n",
       "      <td>20</td>\n",
       "      <td>1</td>\n",
       "      <td>21</td>\n",
       "      <td>1</td>\n",
       "      <td>...</td>\n",
       "      <td>0</td>\n",
       "      <td>0</td>\n",
       "      <td>0</td>\n",
       "      <td>0.0</td>\n",
       "      <td>808480.0</td>\n",
       "      <td>0.0</td>\n",
       "      <td>0.00</td>\n",
       "      <td>0.0</td>\n",
       "      <td>1</td>\n",
       "      <td>0</td>\n",
       "    </tr>\n",
       "  </tbody>\n",
       "</table>\n",
       "<p>5 rows × 33 columns</p>\n",
       "</div>"
      ],
      "text/plain": [
       "   TARGET  AGE     BALANCE  SCR  HOLDING_PERIOD  LEN_OF_RLTN_IN_MNTH  \\\n",
       "0       0   27     3383.75  776              30                  146   \n",
       "1       0   47   287489.04  324              28                  104   \n",
       "2       0   40    18216.88  603               2                   61   \n",
       "3       0   53    71720.48  196              13                  107   \n",
       "4       0   36  1671622.89  167              24                  185   \n",
       "\n",
       "   NO_OF_L_CR_TXNS  NO_OF_L_DR_TXNS  TOT_NO_OF_L_TXNS  \\\n",
       "0                7                3                10   \n",
       "1                8                2                10   \n",
       "2               10                5                15   \n",
       "3               36               14                50   \n",
       "4               20                1                21   \n",
       "\n",
       "   NO_OF_BR_CSH_WDL_DR_TXNS  ...  AMT_MIN_BAL_NMC_CHGS  NO_OF_IW_CHQ_BNC_TXNS  \\\n",
       "0                         0  ...                     0                      0   \n",
       "1                         0  ...                     0                      0   \n",
       "2                         1  ...                     0                      0   \n",
       "3                         4  ...                     0                      0   \n",
       "4                         1  ...                     0                      0   \n",
       "\n",
       "   NO_OF_OW_CHQ_BNC_TXNS  AVG_AMT_PER_ATM_TXN  AVG_AMT_PER_CSH_WDL_TXN  \\\n",
       "0                      0              13100.0                      0.0   \n",
       "1                      0               6600.0                      0.0   \n",
       "2                      1              11200.0                 561120.0   \n",
       "3                      0              13050.0                 168397.5   \n",
       "4                      0                  0.0                 808480.0   \n",
       "\n",
       "   AVG_AMT_PER_CHQ_TXN  AVG_AMT_PER_NET_TXN  AVG_AMT_PER_MOB_TXN  \\\n",
       "0                  0.0            486778.50                  0.0   \n",
       "1                  0.0            799813.00                  0.0   \n",
       "2              24660.0            997570.00                  0.0   \n",
       "3              15195.0            247168.67              71388.0   \n",
       "4                  0.0                 0.00                  0.0   \n",
       "\n",
       "   FLG_HAS_NOMINEE  FLG_HAS_OLD_LOAN  \n",
       "0                1                 1  \n",
       "1                1                 0  \n",
       "2                1                 1  \n",
       "3                1                 0  \n",
       "4                1                 0  \n",
       "\n",
       "[5 rows x 33 columns]"
      ]
     },
     "execution_count": 17,
     "metadata": {},
     "output_type": "execute_result"
    }
   ],
   "source": [
    "df_loan_reduced.head(5)"
   ]
  },
  {
   "cell_type": "code",
   "execution_count": 18,
   "metadata": {},
   "outputs": [
    {
     "data": {
      "text/plain": [
       "Index(['M', 'O'], dtype='object')"
      ]
     },
     "execution_count": 18,
     "metadata": {},
     "output_type": "execute_result"
    }
   ],
   "source": [
    "df_loan_gender.columns"
   ]
  },
  {
   "cell_type": "code",
   "execution_count": 19,
   "metadata": {},
   "outputs": [],
   "source": [
    "\n",
    "data_loan = np.hstack((df_loan_reduced.values,df_loan_gender.values,df_loan_occupation.values,df_loan_acc_type.values))\n",
    "col_loan = np.concatenate([df_loan_reduced.columns,df_loan_gender.columns, df_loan_occupation.columns,df_loan_acc_type.columns])\n",
    "df_loan = pd.DataFrame(data = data_loan,columns=col_loan)"
   ]
  },
  {
   "cell_type": "code",
   "execution_count": 20,
   "metadata": {},
   "outputs": [
    {
     "data": {
      "text/html": [
       "<div>\n",
       "<style scoped>\n",
       "    .dataframe tbody tr th:only-of-type {\n",
       "        vertical-align: middle;\n",
       "    }\n",
       "\n",
       "    .dataframe tbody tr th {\n",
       "        vertical-align: top;\n",
       "    }\n",
       "\n",
       "    .dataframe thead th {\n",
       "        text-align: right;\n",
       "    }\n",
       "</style>\n",
       "<table border=\"1\" class=\"dataframe\">\n",
       "  <thead>\n",
       "    <tr style=\"text-align: right;\">\n",
       "      <th></th>\n",
       "      <th>TARGET</th>\n",
       "      <th>AGE</th>\n",
       "      <th>BALANCE</th>\n",
       "      <th>SCR</th>\n",
       "      <th>HOLDING_PERIOD</th>\n",
       "      <th>LEN_OF_RLTN_IN_MNTH</th>\n",
       "      <th>NO_OF_L_CR_TXNS</th>\n",
       "      <th>NO_OF_L_DR_TXNS</th>\n",
       "      <th>TOT_NO_OF_L_TXNS</th>\n",
       "      <th>NO_OF_BR_CSH_WDL_DR_TXNS</th>\n",
       "      <th>...</th>\n",
       "      <th>AVG_AMT_PER_NET_TXN</th>\n",
       "      <th>AVG_AMT_PER_MOB_TXN</th>\n",
       "      <th>FLG_HAS_NOMINEE</th>\n",
       "      <th>FLG_HAS_OLD_LOAN</th>\n",
       "      <th>M</th>\n",
       "      <th>O</th>\n",
       "      <th>SAL</th>\n",
       "      <th>SELF_EMP</th>\n",
       "      <th>SENP</th>\n",
       "      <th>SA</th>\n",
       "    </tr>\n",
       "  </thead>\n",
       "  <tbody>\n",
       "    <tr>\n",
       "      <th>0</th>\n",
       "      <td>0.0</td>\n",
       "      <td>27.0</td>\n",
       "      <td>3383.75</td>\n",
       "      <td>776.0</td>\n",
       "      <td>30.0</td>\n",
       "      <td>146.0</td>\n",
       "      <td>7.0</td>\n",
       "      <td>3.0</td>\n",
       "      <td>10.0</td>\n",
       "      <td>0.0</td>\n",
       "      <td>...</td>\n",
       "      <td>486778.50</td>\n",
       "      <td>0.0</td>\n",
       "      <td>1.0</td>\n",
       "      <td>1.0</td>\n",
       "      <td>1.0</td>\n",
       "      <td>0.0</td>\n",
       "      <td>0.0</td>\n",
       "      <td>1.0</td>\n",
       "      <td>0.0</td>\n",
       "      <td>1.0</td>\n",
       "    </tr>\n",
       "    <tr>\n",
       "      <th>1</th>\n",
       "      <td>0.0</td>\n",
       "      <td>47.0</td>\n",
       "      <td>287489.04</td>\n",
       "      <td>324.0</td>\n",
       "      <td>28.0</td>\n",
       "      <td>104.0</td>\n",
       "      <td>8.0</td>\n",
       "      <td>2.0</td>\n",
       "      <td>10.0</td>\n",
       "      <td>0.0</td>\n",
       "      <td>...</td>\n",
       "      <td>799813.00</td>\n",
       "      <td>0.0</td>\n",
       "      <td>1.0</td>\n",
       "      <td>0.0</td>\n",
       "      <td>1.0</td>\n",
       "      <td>0.0</td>\n",
       "      <td>1.0</td>\n",
       "      <td>0.0</td>\n",
       "      <td>0.0</td>\n",
       "      <td>1.0</td>\n",
       "    </tr>\n",
       "    <tr>\n",
       "      <th>2</th>\n",
       "      <td>0.0</td>\n",
       "      <td>40.0</td>\n",
       "      <td>18216.88</td>\n",
       "      <td>603.0</td>\n",
       "      <td>2.0</td>\n",
       "      <td>61.0</td>\n",
       "      <td>10.0</td>\n",
       "      <td>5.0</td>\n",
       "      <td>15.0</td>\n",
       "      <td>1.0</td>\n",
       "      <td>...</td>\n",
       "      <td>997570.00</td>\n",
       "      <td>0.0</td>\n",
       "      <td>1.0</td>\n",
       "      <td>1.0</td>\n",
       "      <td>1.0</td>\n",
       "      <td>0.0</td>\n",
       "      <td>0.0</td>\n",
       "      <td>1.0</td>\n",
       "      <td>0.0</td>\n",
       "      <td>1.0</td>\n",
       "    </tr>\n",
       "    <tr>\n",
       "      <th>3</th>\n",
       "      <td>0.0</td>\n",
       "      <td>53.0</td>\n",
       "      <td>71720.48</td>\n",
       "      <td>196.0</td>\n",
       "      <td>13.0</td>\n",
       "      <td>107.0</td>\n",
       "      <td>36.0</td>\n",
       "      <td>14.0</td>\n",
       "      <td>50.0</td>\n",
       "      <td>4.0</td>\n",
       "      <td>...</td>\n",
       "      <td>247168.67</td>\n",
       "      <td>71388.0</td>\n",
       "      <td>1.0</td>\n",
       "      <td>0.0</td>\n",
       "      <td>1.0</td>\n",
       "      <td>0.0</td>\n",
       "      <td>1.0</td>\n",
       "      <td>0.0</td>\n",
       "      <td>0.0</td>\n",
       "      <td>0.0</td>\n",
       "    </tr>\n",
       "    <tr>\n",
       "      <th>4</th>\n",
       "      <td>0.0</td>\n",
       "      <td>36.0</td>\n",
       "      <td>1671622.89</td>\n",
       "      <td>167.0</td>\n",
       "      <td>24.0</td>\n",
       "      <td>185.0</td>\n",
       "      <td>20.0</td>\n",
       "      <td>1.0</td>\n",
       "      <td>21.0</td>\n",
       "      <td>1.0</td>\n",
       "      <td>...</td>\n",
       "      <td>0.00</td>\n",
       "      <td>0.0</td>\n",
       "      <td>1.0</td>\n",
       "      <td>0.0</td>\n",
       "      <td>1.0</td>\n",
       "      <td>0.0</td>\n",
       "      <td>0.0</td>\n",
       "      <td>0.0</td>\n",
       "      <td>0.0</td>\n",
       "      <td>1.0</td>\n",
       "    </tr>\n",
       "  </tbody>\n",
       "</table>\n",
       "<p>5 rows × 39 columns</p>\n",
       "</div>"
      ],
      "text/plain": [
       "   TARGET   AGE     BALANCE    SCR  HOLDING_PERIOD  LEN_OF_RLTN_IN_MNTH  \\\n",
       "0     0.0  27.0     3383.75  776.0            30.0                146.0   \n",
       "1     0.0  47.0   287489.04  324.0            28.0                104.0   \n",
       "2     0.0  40.0    18216.88  603.0             2.0                 61.0   \n",
       "3     0.0  53.0    71720.48  196.0            13.0                107.0   \n",
       "4     0.0  36.0  1671622.89  167.0            24.0                185.0   \n",
       "\n",
       "   NO_OF_L_CR_TXNS  NO_OF_L_DR_TXNS  TOT_NO_OF_L_TXNS  \\\n",
       "0              7.0              3.0              10.0   \n",
       "1              8.0              2.0              10.0   \n",
       "2             10.0              5.0              15.0   \n",
       "3             36.0             14.0              50.0   \n",
       "4             20.0              1.0              21.0   \n",
       "\n",
       "   NO_OF_BR_CSH_WDL_DR_TXNS  ...  AVG_AMT_PER_NET_TXN  AVG_AMT_PER_MOB_TXN  \\\n",
       "0                       0.0  ...            486778.50                  0.0   \n",
       "1                       0.0  ...            799813.00                  0.0   \n",
       "2                       1.0  ...            997570.00                  0.0   \n",
       "3                       4.0  ...            247168.67              71388.0   \n",
       "4                       1.0  ...                 0.00                  0.0   \n",
       "\n",
       "   FLG_HAS_NOMINEE  FLG_HAS_OLD_LOAN    M    O  SAL  SELF_EMP  SENP   SA  \n",
       "0              1.0               1.0  1.0  0.0  0.0       1.0   0.0  1.0  \n",
       "1              1.0               0.0  1.0  0.0  1.0       0.0   0.0  1.0  \n",
       "2              1.0               1.0  1.0  0.0  0.0       1.0   0.0  1.0  \n",
       "3              1.0               0.0  1.0  0.0  1.0       0.0   0.0  0.0  \n",
       "4              1.0               0.0  1.0  0.0  0.0       0.0   0.0  1.0  \n",
       "\n",
       "[5 rows x 39 columns]"
      ]
     },
     "execution_count": 20,
     "metadata": {},
     "output_type": "execute_result"
    }
   ],
   "source": [
    "df_loan.head(5)"
   ]
  },
  {
   "cell_type": "code",
   "execution_count": 21,
   "metadata": {},
   "outputs": [
    {
     "data": {
      "text/plain": [
       "Index(['AGE', 'BALANCE', 'SCR', 'HOLDING_PERIOD', 'LEN_OF_RLTN_IN_MNTH',\n",
       "       'NO_OF_L_CR_TXNS', 'NO_OF_L_DR_TXNS', 'TOT_NO_OF_L_TXNS',\n",
       "       'NO_OF_BR_CSH_WDL_DR_TXNS', 'NO_OF_ATM_DR_TXNS', 'NO_OF_NET_DR_TXNS',\n",
       "       'NO_OF_MOB_DR_TXNS', 'NO_OF_CHQ_DR_TXNS', 'FLG_HAS_CC', 'AMT_ATM_DR',\n",
       "       'AMT_BR_CSH_WDL_DR', 'AMT_CHQ_DR', 'AMT_NET_DR', 'AMT_MOB_DR',\n",
       "       'AMT_L_DR', 'FLG_HAS_ANY_CHGS', 'AMT_OTH_BK_ATM_USG_CHGS',\n",
       "       'AMT_MIN_BAL_NMC_CHGS', 'NO_OF_IW_CHQ_BNC_TXNS',\n",
       "       'NO_OF_OW_CHQ_BNC_TXNS', 'AVG_AMT_PER_ATM_TXN',\n",
       "       'AVG_AMT_PER_CSH_WDL_TXN', 'AVG_AMT_PER_CHQ_TXN', 'AVG_AMT_PER_NET_TXN',\n",
       "       'AVG_AMT_PER_MOB_TXN', 'FLG_HAS_NOMINEE', 'FLG_HAS_OLD_LOAN', 'M', 'O',\n",
       "       'SAL', 'SELF_EMP', 'SENP', 'SA'],\n",
       "      dtype='object')"
      ]
     },
     "execution_count": 21,
     "metadata": {},
     "output_type": "execute_result"
    }
   ],
   "source": [
    "#selecting input variables\n",
    "\n",
    "df_loan.columns[1:]"
   ]
  },
  {
   "cell_type": "code",
   "execution_count": 22,
   "metadata": {},
   "outputs": [
    {
     "data": {
      "text/plain": [
       "TARGET                      0\n",
       "AGE                         0\n",
       "BALANCE                     0\n",
       "SCR                         0\n",
       "HOLDING_PERIOD              0\n",
       "LEN_OF_RLTN_IN_MNTH         0\n",
       "NO_OF_L_CR_TXNS             0\n",
       "NO_OF_L_DR_TXNS             0\n",
       "TOT_NO_OF_L_TXNS            0\n",
       "NO_OF_BR_CSH_WDL_DR_TXNS    0\n",
       "NO_OF_ATM_DR_TXNS           0\n",
       "NO_OF_NET_DR_TXNS           0\n",
       "NO_OF_MOB_DR_TXNS           0\n",
       "NO_OF_CHQ_DR_TXNS           0\n",
       "FLG_HAS_CC                  0\n",
       "AMT_ATM_DR                  0\n",
       "AMT_BR_CSH_WDL_DR           0\n",
       "AMT_CHQ_DR                  0\n",
       "AMT_NET_DR                  0\n",
       "AMT_MOB_DR                  0\n",
       "AMT_L_DR                    0\n",
       "FLG_HAS_ANY_CHGS            0\n",
       "AMT_OTH_BK_ATM_USG_CHGS     0\n",
       "AMT_MIN_BAL_NMC_CHGS        0\n",
       "NO_OF_IW_CHQ_BNC_TXNS       0\n",
       "NO_OF_OW_CHQ_BNC_TXNS       0\n",
       "AVG_AMT_PER_ATM_TXN         0\n",
       "AVG_AMT_PER_CSH_WDL_TXN     0\n",
       "AVG_AMT_PER_CHQ_TXN         0\n",
       "AVG_AMT_PER_NET_TXN         0\n",
       "AVG_AMT_PER_MOB_TXN         0\n",
       "FLG_HAS_NOMINEE             0\n",
       "FLG_HAS_OLD_LOAN            0\n",
       "M                           0\n",
       "O                           0\n",
       "SAL                         0\n",
       "SELF_EMP                    0\n",
       "SENP                        0\n",
       "SA                          0\n",
       "dtype: int64"
      ]
     },
     "execution_count": 22,
     "metadata": {},
     "output_type": "execute_result"
    }
   ],
   "source": [
    "# checking if there are any missing variables for each column\n",
    "df_loan.isnull().sum()"
   ]
  },
  {
   "cell_type": "code",
   "execution_count": 23,
   "metadata": {},
   "outputs": [
    {
     "data": {
      "text/plain": [
       "0.1256"
      ]
     },
     "execution_count": 23,
     "metadata": {},
     "output_type": "execute_result"
    }
   ],
   "source": [
    "# Check the proportion of people who are interested in borrowing loans \n",
    "df_loan['TARGET'].mean()  # imbalanced "
   ]
  },
  {
   "cell_type": "code",
   "execution_count": 24,
   "metadata": {},
   "outputs": [],
   "source": [
    "yX = df_loan.values"
   ]
  },
  {
   "cell_type": "code",
   "execution_count": 25,
   "metadata": {},
   "outputs": [],
   "source": [
    "y = yX[:,0]"
   ]
  },
  {
   "cell_type": "code",
   "execution_count": 26,
   "metadata": {},
   "outputs": [],
   "source": [
    "X = yX[:,1:]"
   ]
  },
  {
   "cell_type": "code",
   "execution_count": 27,
   "metadata": {},
   "outputs": [
    {
     "name": "stdout",
     "output_type": "stream",
     "text": [
      "(20000, 39)\n",
      "(20000,)\n",
      "(20000, 38)\n"
     ]
    }
   ],
   "source": [
    "print(yX.shape)\n",
    "print(y.shape)\n",
    "print(X.shape)"
   ]
  },
  {
   "cell_type": "code",
   "execution_count": 28,
   "metadata": {},
   "outputs": [],
   "source": [
    "#Split the sample into training and testing ones (70:30)\n",
    "\n",
    "X_train0, X_test, y_train0, y_test = train_test_split(X, y, test_size=0.3, random_state=42)"
   ]
  },
  {
   "cell_type": "code",
   "execution_count": 29,
   "metadata": {},
   "outputs": [
    {
     "data": {
      "text/plain": [
       "0.12728571428571428"
      ]
     },
     "execution_count": 29,
     "metadata": {},
     "output_type": "execute_result"
    }
   ],
   "source": [
    "y_train0.mean()"
   ]
  },
  {
   "cell_type": "code",
   "execution_count": 30,
   "metadata": {},
   "outputs": [
    {
     "data": {
      "text/plain": [
       "(14000,)"
      ]
     },
     "execution_count": 30,
     "metadata": {},
     "output_type": "execute_result"
    }
   ],
   "source": [
    "y_train0.shape"
   ]
  },
  {
   "cell_type": "code",
   "execution_count": 31,
   "metadata": {},
   "outputs": [],
   "source": [
    "# For our imbalanced data, use SMOTE (Synthetic Minority Oversampling Technique)\n",
    "sm = SMOTE(random_state=2)\n",
    "X_train, y_train = sm.fit_sample(X_train0, y_train0.ravel())\n",
    "\n",
    "\n",
    "df_X_train = pd.DataFrame(data=X_train, columns=df_loan.columns[1:])\n",
    "df_y_train =  pd.DataFrame(data=y_train, columns=['TARGET'])"
   ]
  },
  {
   "cell_type": "code",
   "execution_count": 32,
   "metadata": {},
   "outputs": [
    {
     "data": {
      "text/plain": [
       "0.5"
      ]
     },
     "execution_count": 32,
     "metadata": {},
     "output_type": "execute_result"
    }
   ],
   "source": [
    "y_train.mean()"
   ]
  },
  {
   "cell_type": "code",
   "execution_count": 33,
   "metadata": {},
   "outputs": [
    {
     "data": {
      "text/plain": [
       "(24436,)"
      ]
     },
     "execution_count": 33,
     "metadata": {},
     "output_type": "execute_result"
    }
   ],
   "source": [
    "y_train.shape"
   ]
  },
  {
   "cell_type": "code",
   "execution_count": 34,
   "metadata": {},
   "outputs": [
    {
     "name": "stdout",
     "output_type": "stream",
     "text": [
      "Alpha and # of Features; 0.01 36\n",
      "-----False columns-----\n",
      "NO_OF_IW_CHQ_BNC_TXNS\n",
      "FLG_HAS_NOMINEE\n",
      "-----True columns-----\n",
      "AGE\n",
      "BALANCE\n",
      "SCR\n",
      "HOLDING_PERIOD\n",
      "LEN_OF_RLTN_IN_MNTH\n",
      "NO_OF_L_CR_TXNS\n",
      "NO_OF_L_DR_TXNS\n",
      "TOT_NO_OF_L_TXNS\n",
      "NO_OF_BR_CSH_WDL_DR_TXNS\n",
      "NO_OF_ATM_DR_TXNS\n",
      "NO_OF_NET_DR_TXNS\n",
      "NO_OF_MOB_DR_TXNS\n",
      "NO_OF_CHQ_DR_TXNS\n",
      "FLG_HAS_CC\n",
      "AMT_ATM_DR\n",
      "AMT_BR_CSH_WDL_DR\n",
      "AMT_CHQ_DR\n",
      "AMT_NET_DR\n",
      "AMT_MOB_DR\n",
      "AMT_L_DR\n",
      "FLG_HAS_ANY_CHGS\n",
      "AMT_OTH_BK_ATM_USG_CHGS\n",
      "AMT_MIN_BAL_NMC_CHGS\n",
      "NO_OF_OW_CHQ_BNC_TXNS\n",
      "AVG_AMT_PER_ATM_TXN\n",
      "AVG_AMT_PER_CSH_WDL_TXN\n",
      "AVG_AMT_PER_CHQ_TXN\n",
      "AVG_AMT_PER_NET_TXN\n",
      "AVG_AMT_PER_MOB_TXN\n",
      "FLG_HAS_OLD_LOAN\n",
      "M\n",
      "O\n",
      "SAL\n",
      "SELF_EMP\n",
      "SENP\n",
      "SA\n"
     ]
    }
   ],
   "source": [
    "# Feature Selection: pick relevant input variables \n",
    "alphaset = [0.01] # prespecified significance level\n",
    "for alpha in alphaset:\n",
    "    chi2_stat, pval = chi2(X_train,y_train)\n",
    "    stat_significance_mask = (pval<alpha)\n",
    "    n_features = stat_significance_mask.sum()\n",
    "    print('Alpha and # of Features;', alpha, n_features)\n",
    "    df_significance = pd.DataFrame(data=(pval<alpha).reshape(1,-1), columns=df_X_train.columns)\n",
    "    df_sig_selected = []\n",
    "    print('-----False columns-----')\n",
    "    for i in range(stat_significance_mask.shape[0]):\n",
    "        if (pval<alpha)[i] == False:\n",
    "            print(df_significance.columns[i])\n",
    "    print('-----True columns-----')\n",
    "    for i in range(stat_significance_mask.shape[0]):\n",
    "        if (pval<alpha)[i] == True:\n",
    "            print(df_significance.columns[i])\n",
    "            df_sig_selected = df_sig_selected + [df_significance.columns[i]]\n",
    "    k_best = SelectKBest(score_func=chi2, k=n_features).fit(X_train,y_train)\n",
    "    X_top_k = k_best.transform(X_train)\n",
    "\n",
    "X_slogit = np.hstack((np.ones((X_top_k.shape[0],1)),X_top_k))\n",
    "X_srf = X_top_k\n",
    "y_s = y_train.ravel()\n",
    "\n",
    "df_X_top_k = pd.DataFrame(data=X_top_k, columns = df_sig_selected)"
   ]
  },
  {
   "cell_type": "code",
   "execution_count": 35,
   "metadata": {
    "scrolled": true
   },
   "outputs": [
    {
     "name": "stdout",
     "output_type": "stream",
     "text": [
      "score:  1.0\n"
     ]
    },
    {
     "data": {
      "image/png": "[encoded data removed]",
      "text/plain": [
       "<Figure size 432x504 with 1 Axes>"
      ]
     },
     "metadata": {
      "needs_background": "light"
     },
     "output_type": "display_data"
    }
   ],
   "source": [
    "# Building Random Forest\n",
    "# feature importance analysis\n",
    "\n",
    "\n",
    "rfr = RandomForestClassifier (random_state=0)\n",
    "rfr.fit(X_srf,y_s)\n",
    "print(\"score: \",rfr.score(X_srf,y_s))\n",
    "\n",
    "feature_imp_a = np.round(np.array(rfr.feature_importances_),4)\n",
    "ser_a = pd.Series(feature_imp_a, index=df_sig_selected, name=\"Feature_Importance\").sort_values(ascending=True)\n",
    "plt.figure(figsize=(6,7))\n",
    "ser_a.plot(kind=\"barh\",color=\"salmon\")\n",
    "plt.show()"
   ]
  },
  {
   "cell_type": "code",
   "execution_count": 36,
   "metadata": {},
   "outputs": [
    {
     "name": "stdout",
     "output_type": "stream",
     "text": [
      "Feature: constant, Score: 0.0\n",
      "Feature: AGE, Score: 0.1292089459496474\n",
      "Feature: BALANCE, Score: -1.4928492464730425\n",
      "Feature: SCR, Score: 0.8333014759278888\n",
      "Feature: HOLDING_PERIOD, Score: -1.6152184029079573\n",
      "Feature: LEN_OF_RLTN_IN_MNTH, Score: -0.40150647077294305\n",
      "Feature: NO_OF_L_CR_TXNS, Score: 2.1974466881420547\n",
      "Feature: NO_OF_L_DR_TXNS, Score: 0.3883416754926641\n",
      "Feature: TOT_NO_OF_L_TXNS, Score: -0.4679524841833176\n",
      "Feature: NO_OF_BR_CSH_WDL_DR_TXNS, Score: 0.29480125978473165\n",
      "Feature: NO_OF_ATM_DR_TXNS, Score: 1.326526670076877\n",
      "Feature: NO_OF_NET_DR_TXNS, Score: -0.29126796370211544\n",
      "Feature: NO_OF_MOB_DR_TXNS, Score: 0.023922930732868098\n",
      "Feature: NO_OF_CHQ_DR_TXNS, Score: -0.20253864860576035\n",
      "Feature: FLG_HAS_CC, Score: 0.7931156187415539\n",
      "Feature: AMT_ATM_DR, Score: -1.3313609460437945\n",
      "Feature: AMT_BR_CSH_WDL_DR, Score: 0.10523388232198953\n",
      "Feature: AMT_CHQ_DR, Score: 0.7291511603282231\n",
      "Feature: AMT_NET_DR, Score: -0.44803940279952437\n",
      "Feature: AMT_MOB_DR, Score: -0.17533974107055603\n",
      "Feature: AMT_L_DR, Score: 0.4529060546761001\n",
      "Feature: FLG_HAS_ANY_CHGS, Score: 0.36197638328498044\n",
      "Feature: AMT_OTH_BK_ATM_USG_CHGS, Score: -1.3659652227947066\n",
      "Feature: AMT_MIN_BAL_NMC_CHGS, Score: -0.4097668507701297\n",
      "Feature: NO_OF_OW_CHQ_BNC_TXNS, Score: 0.06616898424183361\n",
      "Feature: AVG_AMT_PER_ATM_TXN, Score: 0.3578125703757188\n",
      "Feature: AVG_AMT_PER_CSH_WDL_TXN, Score: 0.2425745804019973\n",
      "Feature: AVG_AMT_PER_CHQ_TXN, Score: -1.044612237802437\n",
      "Feature: AVG_AMT_PER_NET_TXN, Score: 0.5448970913619458\n",
      "Feature: AVG_AMT_PER_MOB_TXN, Score: 0.5514265431103956\n",
      "Feature: FLG_HAS_OLD_LOAN, Score: -0.15505553934379807\n",
      "Feature: M, Score: 0.3780924890554877\n",
      "Feature: O, Score: 0.8148674672450352\n",
      "Feature: SAL, Score: -0.3102286889312558\n",
      "Feature: SELF_EMP, Score: 0.7863815303526217\n",
      "Feature: SENP, Score: 0.02846626547197668\n",
      "Feature: SA, Score: -0.17310993232593794\n"
     ]
    },
    {
     "name": "stderr",
     "output_type": "stream",
     "text": [
      "/opt/anaconda3/lib/python3.7/site-packages/sklearn/linear_model/_logistic.py:765: ConvergenceWarning: lbfgs failed to converge (status=1):\n",
      "STOP: TOTAL NO. of ITERATIONS REACHED LIMIT.\n",
      "\n",
      "Increase the number of iterations (max_iter) or scale the data as shown in:\n",
      "    https://scikit-learn.org/stable/modules/preprocessing.html\n",
      "Please also refer to the documentation for alternative solver options:\n",
      "    https://scikit-learn.org/stable/modules/linear_model.html#logistic-regression\n",
      "  extra_warning_msg=_LOGISTIC_SOLVER_CONVERGENCE_MSG)\n"
     ]
    },
    {
     "data": {
      "image/png": "[encoded data removed]",
      "text/plain": [
       "<Figure size 432x288 with 1 Axes>"
      ]
     },
     "metadata": {
      "needs_background": "light"
     },
     "output_type": "display_data"
    }
   ],
   "source": [
    "# Building logistic regression: rescaling and feature importance analysis\n",
    "min_max_scaler = preprocessing.MinMaxScaler()\n",
    "X_slogit0 = min_max_scaler.fit_transform(X_slogit)\n",
    "\n",
    "clf = LogisticRegression()\n",
    "clf.fit(X_slogit0,y_s)\n",
    "\n",
    "importance = clf.coef_[0]\n",
    "df_sig_selected.insert(0,'constant')\n",
    "# summarizeing feature importance\n",
    "for i,v in zip(df_sig_selected, importance.tolist()):\n",
    "    print('Feature: {}, Score: {}'.format(i,v))\n",
    "    \n",
    "pyplot.bar([x for x in range(len(importance))],importance)\n",
    "pyplot.show()"
   ]
  },
  {
   "cell_type": "code",
   "execution_count": 37,
   "metadata": {},
   "outputs": [],
   "source": [
    "set_train = np.hstack((y_train.reshape(-1,1),X_train))\n",
    "set_test = np.hstack((y_test.reshape(-1,1),X_test))\n",
    "df_test = pd.DataFrame(data=set_test, columns = np.hstack((['response'],df_loan.columns[1:]))) \n",
    "df_train = pd.DataFrame(data=set_train, columns = np.hstack((['response'],df_loan.columns[1:])))"
   ]
  },
  {
   "cell_type": "code",
   "execution_count": 38,
   "metadata": {},
   "outputs": [],
   "source": [
    "df_sig_selected.remove('constant')"
   ]
  },
  {
   "cell_type": "code",
   "execution_count": 39,
   "metadata": {},
   "outputs": [],
   "source": [
    "X_test_top_k = df_test[df_sig_selected]\n",
    "X_test_top_k0 = min_max_scaler.fit_transform(X_test_top_k)\n",
    "X_test_logit0 = np.hstack((np.ones((X_test_top_k.shape[0],1)),X_test_top_k0))"
   ]
  },
  {
   "cell_type": "code",
   "execution_count": 40,
   "metadata": {},
   "outputs": [
    {
     "name": "stdout",
     "output_type": "stream",
     "text": [
      "******************************************\n",
      "*** Based on Calibrated Propensity ***\n",
      "******************************************\n",
      "highly likely group sample size 500\n",
      "highly likely group respondents # 486.0\n",
      "highly likely group non-respondents # 14.0\n",
      "highly likely group response rate 0.972\n",
      "p 1.4794811534205965e-162\n",
      "******************************************\n",
      "highly likeli group sample size 1000\n",
      "highly likeli group respondents # 567.0\n",
      "highly likeli group non-respondents # 433.0\n",
      "highly likeli group response rate 0.567\n",
      "p 8.741531173339393e-63\n",
      "******************************************\n",
      "highly likeli group sample size 1500\n",
      "highly likeli group respondents # 618.0\n",
      "highly likeli group non-respondents # 882.0\n",
      "highly likeli group response rate 0.412\n",
      "p 5.7793560449866395e-34\n",
      "******************************************\n",
      "highly likeli group sample size 2000\n",
      "highly likeli group respondents # 644.0\n",
      "highly likeli group non-respondents # 1356.0\n",
      "highly likeli group response rate 0.322\n",
      "p 3.405174451193194e-20\n"
     ]
    }
   ],
   "source": [
    "# Predict propensity scores and pick highly likey group based on the predicted propensity scores \n",
    "# For logistic regression: clf and X_test_logit0. For random forest: rfr and X_test_top_k\n",
    "\n",
    "from scipy.stats import chi2_contingency\n",
    "np.random.seed(1)\n",
    "random_group_size= 500\n",
    "random_index = list(np.random.choice(range(df_test.shape[0]),size=random_group_size,replace=False))\n",
    "rest_index = list(set(list(range(df_test.shape[0])))-set(random_index))\n",
    "df_test_rand = df_test.iloc[random_index]\n",
    "df_test_rest = df_test.iloc[rest_index]\n",
    "\n",
    "propensity = rfr.predict_proba(X_test_top_k)[:,1] # logistic: clf and X_test_logit0, random forest: rfr and X_test_top_k\n",
    "test_prop = np.hstack((df_test['response'].values.reshape(-1,1),propensity.reshape(-1,1)))\n",
    "df_test_prop = pd.DataFrame(data=test_prop, columns=['y','prop'])\n",
    "print ('******************************************')\n",
    "print('*** Based on Calibrated Propensity ***')\n",
    "print ('******************************************')\n",
    "\n",
    "df_test_rest0 = df_test_prop.iloc[rest_index]\n",
    "df_test_rest0_sorted = df_test_rest0.sort_values(by=['prop'],ascending=False)\n",
    "df_test_hl0 = df_test_rest0_sorted.iloc[range(500)]\n",
    "print('highly likely group sample size',df_test_hl0.shape[0])\n",
    "print('highly likely group respondents #',df_test_hl0['y'].sum())\n",
    "print('highly likely group non-respondents #',df_test_hl0.shape[0]-df_test_hl0['y'].sum())\n",
    "print('highly likely group response rate',df_test_hl0['y'].sum()/df_test_hl0.shape[0])\n",
    "print('p', chi2_contingency([[df_test_rand['response'].sum(),random_group_size-df_test_rand['response'].sum()],[df_test_hl0['y'].sum(),df_test_hl0.shape[0]-df_test_hl0['y'].sum()]])[1])\n",
    "print ('******************************************')\n",
    "df_test_rest0 = df_test_prop.iloc[rest_index]\n",
    "df_test_rest0_sorted = df_test_rest0.sort_values(by=['prop'],ascending=False)\n",
    "df_test_hl0 = df_test_rest0_sorted.iloc[range(1000)]\n",
    "print('highly likeli group sample size',df_test_hl0.shape[0])\n",
    "print('highly likeli group respondents #',df_test_hl0['y'].sum())\n",
    "print('highly likeli group non-respondents #',df_test_hl0.shape[0]-df_test_hl0['y'].sum())\n",
    "print('highly likeli group response rate',df_test_hl0['y'].sum()/df_test_hl0.shape[0])\n",
    "print('p', chi2_contingency([[df_test_rand['response'].sum(),random_group_size-df_test_rand['response'].sum()],[df_test_hl0['y'].sum(),df_test_hl0.shape[0]-df_test_hl0['y'].sum()]])[1])\n",
    "print ('******************************************')\n",
    "df_test_rest0 = df_test_prop.iloc[rest_index]\n",
    "df_test_rest0_sorted = df_test_rest0.sort_values(by=['prop'],ascending=False)\n",
    "df_test_hl0 = df_test_rest0_sorted.iloc[range(1500)]\n",
    "print('highly likeli group sample size',df_test_hl0.shape[0])\n",
    "print('highly likeli group respondents #',df_test_hl0['y'].sum())\n",
    "print('highly likeli group non-respondents #',df_test_hl0.shape[0]-df_test_hl0['y'].sum())\n",
    "print('highly likeli group response rate',df_test_hl0['y'].sum()/df_test_hl0.shape[0])\n",
    "print('p', chi2_contingency([[df_test_rand['response'].sum(),random_group_size-df_test_rand['response'].sum()],[df_test_hl0['y'].sum(),df_test_hl0.shape[0]-df_test_hl0['y'].sum()]])[1])\n",
    "print ('******************************************')\n",
    "df_test_rest0 = df_test_prop.iloc[rest_index]\n",
    "df_test_rest0_sorted = df_test_rest0.sort_values(by=['prop'],ascending=False)\n",
    "df_test_hl0 = df_test_rest0_sorted.iloc[range(2000)]\n",
    "print('highly likeli group sample size',df_test_hl0.shape[0])\n",
    "print('highly likeli group respondents #',df_test_hl0['y'].sum())\n",
    "print('highly likeli group non-respondents #',df_test_hl0.shape[0]-df_test_hl0['y'].sum())\n",
    "print('highly likeli group response rate',df_test_hl0['y'].sum()/df_test_hl0.shape[0])\n",
    "print('p', chi2_contingency([[df_test_rand['response'].sum(),random_group_size-df_test_rand['response'].sum()],[df_test_hl0['y'].sum(),df_test_hl0.shape[0]-df_test_hl0['y'].sum()]])[1])"
   ]
  },
  {
   "cell_type": "code",
   "execution_count": 41,
   "metadata": {},
   "outputs": [
    {
     "name": "stdout",
     "output_type": "stream",
     "text": [
      "******************************************\n",
      "*** Based on Calibrated Propensity ***\n",
      "******************************************\n",
      "# of the rest 5500\n",
      "    top_perc    hlss    hlr    hlnr  hlrr_percent\n",
      "0        1.0    55.0   55.0     0.0        100.00\n",
      "1        2.0   110.0  110.0     0.0        100.00\n",
      "2        3.0   165.0  165.0     0.0        100.00\n",
      "3        4.0   220.0  220.0     0.0        100.00\n",
      "4        5.0   275.0  275.0     0.0        100.00\n",
      "..       ...     ...    ...     ...           ...\n",
      "94      95.0  5225.0  673.0  4552.0         12.88\n",
      "95      96.0  5280.0  673.0  4607.0         12.75\n",
      "96      97.0  5335.0  673.0  4662.0         12.61\n",
      "97      98.0  5390.0  673.0  4717.0         12.49\n",
      "98      99.0  5445.0  673.0  4772.0         12.36\n",
      "\n",
      "[99 rows x 5 columns]\n"
     ]
    }
   ],
   "source": [
    "print ('******************************************')\n",
    "print('*** Based on Calibrated Propensity ***')\n",
    "print ('******************************************')\n",
    "\n",
    "df_test_rest0 = df_test_prop.iloc[rest_index]\n",
    "n_rest = len(rest_index)\n",
    "print('# of the rest', n_rest)\n",
    "hlg_thre = np.empty([len(range(99)),5])\n",
    "for i in range (99):\n",
    "    n_hlg = int(np.round_(n_rest*(i+1)*0.01))\n",
    "    df_test_hl0 = df_test_rest0_sorted.iloc[range(n_hlg)]\n",
    "    hlg_thre[i,0] = int(i+1)\n",
    "    hlg_thre[i,1] = int(df_test_hl0.shape[0])\n",
    "    hlg_thre[i,2] = int(df_test_hl0['y'].sum())\n",
    "    hlg_thre[i,3] = int(df_test_hl0.shape[0]-df_test_hl0['y'].sum())\n",
    "    hlg_thre[i,4] = round(df_test_hl0['y'].sum()/df_test_hl0.shape[0]*100,2)\n",
    "df_hlg_thre = pd.DataFrame(data=hlg_thre, columns=['top_perc','hlss','hlr','hlnr','hlrr_percent'])\n",
    "print(df_hlg_thre)\n"
   ]
  },
  {
   "cell_type": "code",
   "execution_count": 42,
   "metadata": {},
   "outputs": [
    {
     "data": {
      "image/png": "[encoded data removed]",
      "text/plain": [
       "<Figure size 432x288 with 1 Axes>"
      ]
     },
     "metadata": {
      "needs_background": "light"
     },
     "output_type": "display_data"
    }
   ],
   "source": [
    "plt.plot(hlg_thre[:,0],hlg_thre[:,4])\n",
    "plt.ylabel('Response Rate (%)')\n",
    "plt.xlabel('Top Percent of High Propensity in Highly Likely Group')\n",
    "plt.show()"
   ]
  }
 ],
 "metadata": {
  "kernelspec": {
   "display_name": "Python 3",
   "language": "python",
   "name": "python3"
  },
  "language_info": {
   "codemirror_mode": {
    "name": "ipython",
    "version": 3
   },
   "file_extension": ".py",
   "mimetype": "text/x-python",
   "name": "python",
   "nbconvert_exporter": "python",
   "pygments_lexer": "ipython3",
   "version": "3.7.6"
  }
 },
 "nbformat": 4,
 "nbformat_minor": 2
}
